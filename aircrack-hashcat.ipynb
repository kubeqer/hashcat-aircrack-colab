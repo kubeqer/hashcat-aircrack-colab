{
  "nbformat": 4,
  "nbformat_minor": 0,
  "metadata": {
    "colab": {
      "provenance": [],
      "gpuType": "T4",
      "machine_shape": "hm"
    },
    "kernelspec": {
      "name": "python3",
      "display_name": "Python 3"
    },
    "language_info": {
      "name": "python"
    },
    "accelerator": "GPU"
  },
  "cells": [
    {
      "cell_type": "markdown",
      "source": [
        "# **GPU CHECK**"
      ],
      "metadata": {
        "id": "DNPOmV9dj5Gg"
      }
    },
    {
      "cell_type": "code",
      "source": [
        "!nvidia-smi\n"
      ],
      "metadata": {
        "id": "tmLuPopSj121"
      },
      "execution_count": null,
      "outputs": []
    },
    {
      "cell_type": "markdown",
      "source": [
        "# **INSTALL**"
      ],
      "metadata": {
        "id": "3UJUuVM5jwfS"
      }
    },
    {
      "cell_type": "markdown",
      "source": [
        "*Essentials*"
      ],
      "metadata": {
        "id": "tv-joJq5bF5-"
      }
    },
    {
      "cell_type": "code",
      "source": [
        "!apt update -y\n",
        "!apt install cmake build-essential libtool libnl-3-dev libnl-genl-3-dev hcxtools -y\n",
        "!apt install checkinstall git -y"
      ],
      "metadata": {
        "id": "k92VoJXao_V7",
        "collapsed": true
      },
      "execution_count": null,
      "outputs": []
    },
    {
      "cell_type": "markdown",
      "source": [
        "*Aircrack and word list*"
      ],
      "metadata": {
        "id": "HT_AvbrDa-Ic"
      }
    },
    {
      "cell_type": "code",
      "source": [
        "#AIRCRACK & WORD LIST\n",
        "!git clone --recursive https://github.com/aircrack-ng/aircrack-ng\n",
        "!cd aircrack-ng && ./autogen.sh\n",
        "!cd aircrack-ng && make\n",
        "!cd aircrack-ng && wget https://github.com/brannondorsey/naive-hashcat/releases/download/data/rockyou.txt && echo wroclaw222 >> rockyou.txt"
      ],
      "metadata": {
        "collapsed": true,
        "id": "E4IHBre3pHNw"
      },
      "execution_count": null,
      "outputs": []
    },
    {
      "cell_type": "markdown",
      "source": [
        "*Hashcat*"
      ],
      "metadata": {
        "id": "DiV6s-zRbNl6"
      }
    },
    {
      "cell_type": "code",
      "execution_count": null,
      "metadata": {
        "id": "VmV8v0pWiXKg"
      },
      "outputs": [],
      "source": [
        "#hashcat\n",
        "!git clone https://github.com/hashcat/hashcat.git && cd hashcat && make && make install\n",
        "!git clone https://github.com/hashcat/hashcat-utils && cd hashcat-utils && git submodule update --init && cd src && make"
      ]
    },
    {
      "cell_type": "markdown",
      "source": [
        "*UPLOAD CAP*"
      ],
      "metadata": {
        "id": "xqtnOsvHjvMx"
      }
    },
    {
      "cell_type": "code",
      "source": [
        "from google.colab import files\n",
        "!mkdir cap_files\n",
        "uploaded = files.upload()\n",
        "\n",
        "for f_name in uploaded.keys():\n",
        "  print('User uploaded file \"{name}\" with length {length} bytes'.format(name=f_name, length=len(uploaded[f_name])))\n",
        "\n",
        "!mv {f_name} \"/content/cap_files/cap.cap\""
      ],
      "metadata": {
        "id": "sGw6mdbEjz6t"
      },
      "execution_count": null,
      "outputs": []
    },
    {
      "cell_type": "markdown",
      "source": [
        "#**AIRCRACK**"
      ],
      "metadata": {
        "id": "EesW_D7ujFzB"
      }
    },
    {
      "cell_type": "code",
      "source": [
        "!cd /content/aircrack-ng && ./aircrack-ng -w ./rockyou.txt /content/cap_files/cap.cap"
      ],
      "metadata": {
        "id": "K3RlHtRhlErg"
      },
      "execution_count": null,
      "outputs": []
    },
    {
      "cell_type": "markdown",
      "source": [
        "# **Hashcat**"
      ],
      "metadata": {
        "id": "dzoaK-tQba2E"
      }
    },
    {
      "cell_type": "code",
      "source": [
        "!mkdir hc22000\n",
        "!hcxpcapngtool -o /content/hc22000/bruteforce.hc22000 /content/cap_files/cap.cap\n",
        "!hashcat -m 22000 -a 0 /content/hc22000/bruteforce.hc22000 /content/aircrack-ng/rockyou.txt"
      ],
      "metadata": {
        "id": "Tjc1TlzRh9Sk"
      },
      "execution_count": null,
      "outputs": []
    },
    {
      "cell_type": "code",
      "source": [
        "!mkdir hccapx_files\n",
        "!./hashcat-utils/src/cap2hccapx.bin /content/cap_files/cap.cap /content/hccapx_files/272307.hccapx\n",
        "!hashcat --deprecated-check-disable -m 2500 -a 3 -w 3 /content/hccapx_files/272307.hccapx ?d?d?d?d?d?d?d?d"
      ],
      "metadata": {
        "id": "7TfmrVsB9IO_"
      },
      "execution_count": null,
      "outputs": []
    }
  ]
}